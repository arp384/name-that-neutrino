{
 "cells": [
  {
   "cell_type": "markdown",
   "metadata": {},
   "source": [
    "# do_processing.ipynb\n",
    "## Author: Andrew Phillips\n",
    "## Purpose: Selects NTN phase 1 dataset from raw i3 sim files, applies custom modules, and saves to csv\n"
   ]
  },
  {
   "cell_type": "code",
   "execution_count": 1,
   "metadata": {},
   "outputs": [],
   "source": [
    "import numpy as np\n",
    "import sys\n",
    "import os, fnmatch\n",
    "import pandas as pd\n",
    "import glob\n",
    "import json\n",
    "from icecube import dataio, dataclasses, icetray, MuonGun\n",
    "from I3Tray import *\n",
    "from icecube.hdfwriter import I3HDFWriter\n",
    "import h5py\n",
    "from i3_tools import *"
   ]
  },
  {
   "cell_type": "markdown",
   "metadata": {},
   "source": [
    "#### Read in file paths, and corresponding subject set ids"
   ]
  },
  {
   "cell_type": "code",
   "execution_count": 2,
   "metadata": {},
   "outputs": [],
   "source": [
    "file_info = pd.read_csv(os.path.join(os.getcwd(), 'phase1_files.csv'))\n",
    "i3_files = list(file_info['filepath'])\n",
    "subj_set_ids = list(file_info['subject_set_id'])"
   ]
  },
  {
   "cell_type": "markdown",
   "metadata": {},
   "source": [
    "#### Select only desired events\n"
   ]
  },
  {
   "cell_type": "code",
   "execution_count": 12,
   "metadata": {},
   "outputs": [],
   "source": [
    "#make dict of subj_set_ids, where data is list of all (event_id, subject_id) pairs in that subject set\n",
    "ntn_subjects = pd.read_csv('/home/aphillips/data/data_exports_3-30/name-that-neutrino-subjects.csv')\n",
    "ntn_subjects = ntn_subjects[ntn_subjects['workflow_id']==23715]\n",
    "ssid_dict = dict.fromkeys(subj_set_ids)\n",
    "for subj_set_id in subj_set_ids:\n",
    "    subj_set = ntn_subjects[ntn_subjects['subject_set_id'] == subj_set_id]\n",
    "    metadata = list(subj_set['metadata'])\n",
    "    subj_ids = list(subj_set['subject_id'])\n",
    "    seen = []\n",
    "    evt_ids = []\n",
    "    subject_ids = []\n",
    "    #print(metadata[0])\n",
    "    for idx in range(0, len(metadata)):\n",
    "        eid = json.loads(metadata[idx])['event']\n",
    "        if eid not in seen:\n",
    "            seen.append(eid)\n",
    "            evt_ids.append(eid)\n",
    "            subject_ids.append(subj_ids[idx])\n",
    "            \n",
    "            \n",
    "    val = zip(subject_ids, evt_ids)\n",
    "    \n",
    "    \n",
    "    ssid_dict[subj_set_id] = [tup for tup in val]\n",
    "    #ssid_dict[subj_set_id] = [{'event_id':tup[1], 'subject_id':tup[0]} for tup in val]"
   ]
  },
  {
   "cell_type": "code",
   "execution_count": 13,
   "metadata": {},
   "outputs": [
    {
     "name": "stdout",
     "output_type": "stream",
     "text": [
      "4271\n"
     ]
    }
   ],
   "source": [
    "n = 0\n",
    "for ssid in ssid_dict.keys():\n",
    "    n += len(ssid_dict[ssid])\n",
    "print(n)"
   ]
  },
  {
   "cell_type": "code",
   "execution_count": 14,
   "metadata": {},
   "outputs": [
    {
     "name": "stdout",
     "output_type": "stream",
     "text": [
      "Processing file 1 of 19\n"
     ]
    }
   ],
   "source": [
    "for idx in range(0, 1):#len(subj_set_ids)): #loop over all the ssids\n",
    "    \n",
    "    print(f'Processing file {idx+1} of {len(subj_set_ids)}')\n",
    "    ssid = subj_set_ids[idx]\n",
    "    l = ssid_dict[ssid]\n",
    "    l.sort(key=lambda x: x[1]) #sort the list in order of event id\n",
    "    event_ids = [tup[1] for tup in ssid_dict[ssid]]\n",
    "    \n",
    "    #event_ids = list(set(event_ids))\n",
    "    subject_ids = [tup[0] for tup in ssid_dict[ssid]]\n",
    "    #event_ids.sort() #sort the event_ids. this should speed things up since the \n",
    "    outfile = dataio.I3File(os.path.join('/home/aphillips/data/output', f'ntn_events_{ssid}.i3'), 'w') #open empty i3 for output\n",
    "    infile = dataio.I3File(i3_files[idx]) #open target i3\n",
    "\n",
    "    while(infile.more()):\n",
    "        frame = infile.pop_daq() #pop frame\n",
    "        evt_head = frame[\"I3EventHeader\"] #get event header\n",
    "        evt_id = evt_head.event_id #get event id\n",
    "        if(evt_id == event_ids[0]): #check if event id is in our list\n",
    "            frame['subject_id'] = icetray.I3Int(subject_ids.pop(0))\n",
    "            outfile.push(frame) #if so, push the frame to our output file\n",
    "            event_ids.pop(0) #remove that value from the list of event ids\n",
    "        if event_ids == []: #stop when we've grabbed all of our event ids\n",
    "            break   \n",
    "                            \n",
    "    outfile.close() #close the files\n",
    "    infile.close()"
   ]
  },
  {
   "cell_type": "markdown",
   "metadata": {},
   "source": [
    "#### Apply custom modules, save to csvs"
   ]
  },
  {
   "cell_type": "code",
   "execution_count": 3,
   "metadata": {},
   "outputs": [
    {
     "name": "stdout",
     "output_type": "stream",
     "text": [
      "['ap_modules_ntn_events_112392.i3.hd5', 'ntn_events_112119.i3', 'ntn_events_112425.i3', 'ntn_events_112120.i3', 'ap_modules_ntn_events_112487.i3', 'ap_modules_ntn_events_112467.i3.hd5', 'ap_modules_ntn_events_112467.i3', 'ap_modules_ntn_events_112118.i3.hd5', 'ntn_events_112118.i3', 'all_ntn_events_4-24-24.csv', 'ntn_events_112433.i3', 'ap_modules_ntn_events_112492.i3', 'ap_modules_ntn_events_112120.i3.hd5', 'ap_modules_ntn_events_112492.i3.hd5', 'ap_modules_ntn_events_112473.i3', 'ap_modules_ntn_events_112425.i3.hd5', 'ntn_events_112498.i3', 'ap_modules_ntn_events_112414.i3', 'ap_modules_ntn_events_112473.i3.hd5', 'ap_modules_ntn_events_112433.i3.hd5', 'ap_modules_ntn_events_112464.i3', 'ap_modules_ntn_events_112414.i3.hd5', 'ap_modules_ntn_events_112481.i3', 'ntn_events_112109.i3', 'ntn_events_112392.i3', 'ap_modules_ntn_events_112501.i3', 'ntn_events_112418.i3', 'ap_modules_ntn_events_112116.i3', 'ntn_events_112391.i3', 'ap_modules_ntn_events_112498.i3.hd5', 'ap_modules_ntn_events_112418.i3.hd5', 'ap_modules_ntn_events_112109.i3', 'ap_modules_ntn_events_112392.i3', 'ntn_events_112481.i3', 'ap_modules_ntn_events_112418.i3', 'ntn_events_112501.i3', 'ap_modules_ntn_events_112109.i3.hd5', 'ap_modules_ntn_events_112481.i3.hd5', 'ap_modules_ntn_events_112391.i3', 'ntn_events_112116.i3', 'ap_modules_ntn_events_112119.i3.hd5', 'ap_modules_ntn_events_112425.i3', 'ap_modules_ntn_events_112119.i3', 'ap_modules_ntn_events_112433.i3', 'ap_modules_ntn_events_112118.i3', 'ntn_events_112467.i3', 'ntn_events_112487.i3', 'ap_modules_ntn_events_112487.i3.hd5', 'ap_modules_ntn_events_112120.i3', 'ap_modules_ntn_events_112501.i3.hd5', 'ap_modules_ntn_events_112464.i3.hd5', 'ntn_events_112492.i3', 'ap_modules_ntn_events_112116.i3.hd5', 'ntn_events_112464.i3', 'ntn_events_112414.i3', 'ap_modules_ntn_events_112498.i3', 'ntn_events_112473.i3', 'ap_modules_ntn_events_112391.i3.hd5']\n",
      "ap_modules_ntn_events_112392.i3.hd5\n"
     ]
    },
    {
     "ename": "RuntimeError",
     "evalue": "Error reading /home/aphillips/data/output/ap_modules_ntn_events_112392.i3.hd5 at frame 1: Your I3File is corrupt. (in bool I3Frame::load(IStreamT&, const std::vector<std::__cxx11::basic_string<char> >&, bool) [with IStreamT = boost::iostreams::filtering_stream<boost::iostreams::input>])! (in virtual void I3Reader::Process())",
     "output_type": "error",
     "traceback": [
      "\u001b[0;31m---------------------------------------------------------------------------\u001b[0m",
      "\u001b[0;31mRuntimeError\u001b[0m                              Traceback (most recent call last)",
      "\u001b[0;32m<ipython-input-3-0f54cf2f9bb4>\u001b[0m in \u001b[0;36m<module>\u001b[0;34m\u001b[0m\n\u001b[1;32m      4\u001b[0m \u001b[0;32mfor\u001b[0m \u001b[0mf\u001b[0m \u001b[0;32min\u001b[0m \u001b[0mfiles\u001b[0m\u001b[0;34m:\u001b[0m\u001b[0;34m\u001b[0m\u001b[0;34m\u001b[0m\u001b[0m\n\u001b[1;32m      5\u001b[0m     \u001b[0mprint\u001b[0m\u001b[0;34m(\u001b[0m\u001b[0mf\u001b[0m\u001b[0;34m)\u001b[0m\u001b[0;34m\u001b[0m\u001b[0;34m\u001b[0m\u001b[0m\n\u001b[0;32m----> 6\u001b[0;31m     \u001b[0;34m(\u001b[0m\u001b[0moutfile\u001b[0m\u001b[0;34m,\u001b[0m \u001b[0mhd5_name\u001b[0m\u001b[0;34m)\u001b[0m \u001b[0;34m=\u001b[0m \u001b[0mapply_modules\u001b[0m\u001b[0;34m(\u001b[0m\u001b[0mos\u001b[0m\u001b[0;34m.\u001b[0m\u001b[0mpath\u001b[0m\u001b[0;34m.\u001b[0m\u001b[0mjoin\u001b[0m\u001b[0;34m(\u001b[0m\u001b[0;34m'/home/aphillips/data/output/'\u001b[0m\u001b[0;34m,\u001b[0m\u001b[0mf\u001b[0m\u001b[0;34m)\u001b[0m\u001b[0;34m,\u001b[0m \u001b[0;34m'.'\u001b[0m\u001b[0;34m)\u001b[0m\u001b[0;34m\u001b[0m\u001b[0;34m\u001b[0m\u001b[0m\n\u001b[0m\u001b[1;32m      7\u001b[0m     \u001b[0mdataframes\u001b[0m\u001b[0;34m.\u001b[0m\u001b[0mappend\u001b[0m\u001b[0;34m(\u001b[0m\u001b[0mprocess_data\u001b[0m\u001b[0;34m(\u001b[0m\u001b[0mos\u001b[0m\u001b[0;34m.\u001b[0m\u001b[0mpath\u001b[0m\u001b[0;34m.\u001b[0m\u001b[0mjoin\u001b[0m\u001b[0;34m(\u001b[0m\u001b[0mos\u001b[0m\u001b[0;34m.\u001b[0m\u001b[0mgetcwd\u001b[0m\u001b[0;34m(\u001b[0m\u001b[0;34m)\u001b[0m\u001b[0;34m,\u001b[0m \u001b[0;34m'output'\u001b[0m\u001b[0;34m,\u001b[0m \u001b[0mhd5_name\u001b[0m\u001b[0;34m)\u001b[0m\u001b[0;34m)\u001b[0m\u001b[0;34m)\u001b[0m\u001b[0;34m\u001b[0m\u001b[0;34m\u001b[0m\u001b[0m\n",
      "\u001b[0;32m~/name-that-neutrino/i3_processing/i3_tools.py\u001b[0m in \u001b[0;36mapply_modules\u001b[0;34m(input_file, output_dir)\u001b[0m\n\u001b[1;32m     69\u001b[0m     \u001b[0mtray\u001b[0m\u001b[0;34m.\u001b[0m\u001b[0mAddModule\u001b[0m\u001b[0;34m(\u001b[0m\u001b[0;34m'TrashCan'\u001b[0m\u001b[0;34m,\u001b[0m\u001b[0;34m'can'\u001b[0m\u001b[0;34m)\u001b[0m\u001b[0;34m\u001b[0m\u001b[0;34m\u001b[0m\u001b[0m\n\u001b[1;32m     70\u001b[0m \u001b[0;34m\u001b[0m\u001b[0m\n\u001b[0;32m---> 71\u001b[0;31m     \u001b[0mtray\u001b[0m\u001b[0;34m.\u001b[0m\u001b[0mExecute\u001b[0m\u001b[0;34m(\u001b[0m\u001b[0;34m)\u001b[0m\u001b[0;34m\u001b[0m\u001b[0;34m\u001b[0m\u001b[0m\n\u001b[0m\u001b[1;32m     72\u001b[0m     \u001b[0mtray\u001b[0m\u001b[0;34m.\u001b[0m\u001b[0mFinish\u001b[0m\u001b[0;34m(\u001b[0m\u001b[0;34m)\u001b[0m\u001b[0;34m\u001b[0m\u001b[0;34m\u001b[0m\u001b[0m\n\u001b[1;32m     73\u001b[0m     \u001b[0;32mreturn\u001b[0m \u001b[0;34m(\u001b[0m\u001b[0moutfile\u001b[0m\u001b[0;34m,\u001b[0m \u001b[0mhdf_name\u001b[0m\u001b[0;34m)\u001b[0m\u001b[0;34m\u001b[0m\u001b[0;34m\u001b[0m\u001b[0m\n",
      "\u001b[0;32m/cvmfs/icecube.opensciencegrid.org/py3-v4.1.1/RHEL_7_x86_64/metaprojects/icetray/v1.3.0/lib/I3Tray.py\u001b[0m in \u001b[0;36mExecute\u001b[0;34m(self, *args)\u001b[0m\n\u001b[1;32m    254\u001b[0m             \u001b[0msuper\u001b[0m\u001b[0;34m(\u001b[0m\u001b[0mI3Tray\u001b[0m\u001b[0;34m,\u001b[0m \u001b[0mself\u001b[0m\u001b[0;34m)\u001b[0m\u001b[0;34m.\u001b[0m\u001b[0mExecute\u001b[0m\u001b[0;34m(\u001b[0m\u001b[0margs\u001b[0m\u001b[0;34m[\u001b[0m\u001b[0;36m0\u001b[0m\u001b[0;34m]\u001b[0m\u001b[0;34m)\u001b[0m\u001b[0;34m\u001b[0m\u001b[0;34m\u001b[0m\u001b[0m\n\u001b[1;32m    255\u001b[0m         \u001b[0;32melse\u001b[0m\u001b[0;34m:\u001b[0m\u001b[0;34m\u001b[0m\u001b[0;34m\u001b[0m\u001b[0m\n\u001b[0;32m--> 256\u001b[0;31m             \u001b[0msuper\u001b[0m\u001b[0;34m(\u001b[0m\u001b[0mI3Tray\u001b[0m\u001b[0;34m,\u001b[0m \u001b[0mself\u001b[0m\u001b[0;34m)\u001b[0m\u001b[0;34m.\u001b[0m\u001b[0mExecute\u001b[0m\u001b[0;34m(\u001b[0m\u001b[0;34m)\u001b[0m\u001b[0;34m\u001b[0m\u001b[0;34m\u001b[0m\u001b[0m\n\u001b[0m\u001b[1;32m    257\u001b[0m \u001b[0;34m\u001b[0m\u001b[0m\n\u001b[1;32m    258\u001b[0m     \u001b[0;32mdef\u001b[0m \u001b[0mPrintUsage\u001b[0m\u001b[0;34m(\u001b[0m\u001b[0mself\u001b[0m\u001b[0;34m,\u001b[0m \u001b[0mfraction\u001b[0m\u001b[0;34m=\u001b[0m\u001b[0;36m0.9\u001b[0m\u001b[0;34m)\u001b[0m\u001b[0;34m:\u001b[0m\u001b[0;34m\u001b[0m\u001b[0;34m\u001b[0m\u001b[0m\n",
      "\u001b[0;31mRuntimeError\u001b[0m: Error reading /home/aphillips/data/output/ap_modules_ntn_events_112392.i3.hd5 at frame 1: Your I3File is corrupt. (in bool I3Frame::load(IStreamT&, const std::vector<std::__cxx11::basic_string<char> >&, bool) [with IStreamT = boost::iostreams::filtering_stream<boost::iostreams::input>])! (in virtual void I3Reader::Process())"
     ]
    }
   ],
   "source": [
    "dataframes = []\n",
    "files = [fname for fname in os.listdir('/home/aphillips/data/output/') if fname != 'output']\n",
    "print(files)\n",
    "for f in files:\n",
    "    print(f)\n",
    "    (outfile, hd5_name) = apply_modules(os.path.join('/home/aphillips/data/output/',f), '/home/aphillips/data/output/')\n",
    "    dataframes.append(process_data(os.path.join(os.getcwd(), 'output', hd5_name)))"
   ]
  },
  {
   "cell_type": "code",
   "execution_count": 2,
   "metadata": {},
   "outputs": [],
   "source": [
    "f = './ntn_events_112116.i3'\n",
    "(outfile, hd5_name) = apply_modules(f, '.')"
   ]
  },
  {
   "cell_type": "markdown",
   "metadata": {},
   "source": [
    "#### Concatenate all the csvs into a master df"
   ]
  },
  {
   "cell_type": "code",
   "execution_count": 3,
   "metadata": {},
   "outputs": [
    {
     "name": "stdout",
     "output_type": "stream",
     "text": [
      "4271\n"
     ]
    }
   ],
   "source": [
    "DF = pd.concat(dataframes) #create a master dataframe\n",
    "print(len(DF))\n",
    "DF.to_csv('/home/aphillips/data/output/all_ntn_events_4-24-24.csv', index=False) #save"
   ]
  },
  {
   "cell_type": "markdown",
   "metadata": {},
   "source": [
    "testing"
   ]
  },
  {
   "cell_type": "code",
   "execution_count": 5,
   "metadata": {},
   "outputs": [],
   "source": [
    "(outfile, hd5_name) = apply_modules('./test.i3', '.')"
   ]
  },
  {
   "cell_type": "code",
   "execution_count": null,
   "metadata": {},
   "outputs": [],
   "source": []
  }
 ],
 "metadata": {
  "kernelspec": {
   "display_name": "Python 3",
   "language": "python",
   "name": "python3"
  },
  "language_info": {
   "codemirror_mode": {
    "name": "ipython",
    "version": 3
   },
   "file_extension": ".py",
   "mimetype": "text/x-python",
   "name": "python",
   "nbconvert_exporter": "python",
   "pygments_lexer": "ipython3",
   "version": "3.7.5"
  }
 },
 "nbformat": 4,
 "nbformat_minor": 2
}
