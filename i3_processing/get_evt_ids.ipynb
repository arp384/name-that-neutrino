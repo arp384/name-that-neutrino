{
 "cells": [
  {
   "cell_type": "code",
   "execution_count": 1,
   "metadata": {},
   "outputs": [],
   "source": [
    "import pandas as pd\n",
    "import numpy as np\n",
    "import os, os.path\n",
    "import json\n",
    "import argparse"
   ]
  },
  {
   "cell_type": "code",
   "execution_count": 2,
   "metadata": {},
   "outputs": [],
   "source": [
    "SUBJ_SET_IDS = [112109, 112391, 112425, 112433, 112464, 112392, 112414, 112418, 112498, \n",
    "                       112473, 112487, 112492, 112467, 112116, 112481, 112501, 112118, 112119, 112120]                  #subject set ids we want"
   ]
  },
  {
   "cell_type": "code",
   "execution_count": 3,
   "metadata": {},
   "outputs": [],
   "source": [
    "subjects = pd.read_csv('../phase1_analysis/data_exports_3-30/name-that-neutrino-subjects.csv')\n",
    "subjects = subjects[subjects['workflow_id'] == 23715]"
   ]
  },
  {
   "cell_type": "code",
   "execution_count": 4,
   "metadata": {},
   "outputs": [],
   "source": [
    "for subj_set_id in SUBJ_SET_IDS:\n",
    "    subj_set = subjects[subjects['subject_set_id'] == subj_set_id]\n",
    "    metadata = subj_set['metadata']\n",
    "    subject_ids = list(subj_set['subject_id'])\n",
    "    evt_ids = [json.loads(md)['event'] for md in metadata]\n",
    "    df = pd.DataFrame(data={'event_id': evt_ids, 'subject_id': subject_ids})\n",
    "    df.to_csv(f'event_ids/evt_ids_{subj_set_id}.csv', index=False)"
   ]
  },
  {
   "cell_type": "code",
   "execution_count": 5,
   "metadata": {},
   "outputs": [
    {
     "name": "stdout",
     "output_type": "stream",
     "text": [
      "[2900, 2583, 2784, 3783, 5704, 3706, 6, 2601, 3739, 4310, 3942, 165, 162, 2630, 2670, 9443, 4159, 2555, 2846, 4500, 235, 3804, 3847, 3765, 4052, 4238, 4267, 2524, 5398, 8315, 8146, 3593, 2435, 45, 3993, 8234, 5305, 90, 8226, 7927, 3966, 2377, 192, 2838, 2830, 2819, 5478, 31, 995, 8289, 8105, 2721, 207, 4237, 226, 5456, 1005, 3897, 7115, 8477, 2440, 8265, 5598, 5663, 2515, 3713, 3644, 2401, 1059, 5589, 222, 7931, 1004, 4458, 3736, 2826, 1057, 3829, 174]\n"
     ]
    }
   ],
   "source": [
    "print(evt_ids)"
   ]
  }
 ],
 "metadata": {
  "kernelspec": {
   "display_name": "base",
   "language": "python",
   "name": "python3"
  },
  "language_info": {
   "codemirror_mode": {
    "name": "ipython",
    "version": 3
   },
   "file_extension": ".py",
   "mimetype": "text/x-python",
   "name": "python",
   "nbconvert_exporter": "python",
   "pygments_lexer": "ipython3",
   "version": "3.9.13"
  }
 },
 "nbformat": 4,
 "nbformat_minor": 2
}
