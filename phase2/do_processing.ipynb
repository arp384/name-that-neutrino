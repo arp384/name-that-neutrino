{
 "cells": [
  {
   "cell_type": "markdown",
   "metadata": {},
   "source": [
    "# do_processing.ipynb\n",
    "## Author: Andrew Phillips\n",
    "## Purpose: do sample processing on small i3s\n"
   ]
  },
  {
   "cell_type": "code",
   "execution_count": 1,
   "metadata": {},
   "outputs": [],
   "source": [
    "import numpy as np # type: ignore\n",
    "import sys\n",
    "import os, fnmatch\n",
    "import pandas as pd # type: ignore\n",
    "import glob\n",
    "import json\n",
    "from icecube import dataio, dataclasses, icetray, MuonGun # type: ignore\n",
    "from I3Tray import * # type: ignore\n",
    "from icecube.hdfwriter import I3HDFWriter # type: ignore\n",
    "import h5py # type: ignore\n",
    "from APMCLabeler import APMCLabeler\n",
    "from filters import *\n",
    "from new_filters import *"
   ]
  },
  {
   "cell_type": "code",
   "execution_count": 2,
   "metadata": {},
   "outputs": [],
   "source": [
    "subrun = '009999'"
   ]
  },
  {
   "cell_type": "code",
   "execution_count": 3,
   "metadata": {},
   "outputs": [],
   "source": [
    "outdir = '/home/aphillips/phase2_data/'"
   ]
  },
  {
   "cell_type": "code",
   "execution_count": 4,
   "metadata": {},
   "outputs": [],
   "source": [
    "infile_dir = '/data/sim/IceCube/2020/filtered/test/newprocessing/neutrino-generator/22067/0009000-0009999/classifier/'\n",
    "infile_name = 'classifier_rehyd_DST_IC86.2020_NuE.022067.009999.i3.zst'"
   ]
  },
  {
   "cell_type": "code",
   "execution_count": 5,
   "metadata": {},
   "outputs": [],
   "source": [
    "label_events(os.path.join(infile_dir, infile_name), outdir)"
   ]
  },
  {
   "cell_type": "code",
   "execution_count": 6,
   "metadata": {},
   "outputs": [
    {
     "name": "stdout",
     "output_type": "stream",
     "text": [
      "Length: 413\n"
     ]
    }
   ],
   "source": [
    "make_csv(os.path.join(outdir,f'mc_labeled_{infile_name}.hd5'), outdir, subrun)"
   ]
  },
  {
   "cell_type": "code",
   "execution_count": 7,
   "metadata": {},
   "outputs": [],
   "source": [
    "do_cuts(os.path.join(outdir,f'mc_labeled_{infile_name}'), outdir, os.path.join(outdir, f'events_df_{subrun}.csv'))"
   ]
  },
  {
   "cell_type": "code",
   "execution_count": 8,
   "metadata": {},
   "outputs": [],
   "source": [
    "#why cant we remove non-daq frames first?\n",
    "extract_daq(os.path.join(outdir, f'cuts_mc_labeled_{infile_name}'), '22067009999', outdir)"
   ]
  }
 ],
 "metadata": {
  "kernelspec": {
   "display_name": "Python 3",
   "language": "python",
   "name": "python3"
  },
  "language_info": {
   "codemirror_mode": {
    "name": "ipython",
    "version": 3
   },
   "file_extension": ".py",
   "mimetype": "text/x-python",
   "name": "python",
   "nbconvert_exporter": "python",
   "pygments_lexer": "ipython3",
   "version": "3.7.5"
  }
 },
 "nbformat": 4,
 "nbformat_minor": 2
}
