{
 "cells": [
  {
   "cell_type": "markdown",
   "metadata": {},
   "source": [
    "# do_processing.ipynb\n",
    "## Author: Andrew Phillips\n",
    "## Purpose: Given a list of files, extract DAQ frames, uniform energy dist, and finally apply mclabeler\n"
   ]
  },
  {
   "cell_type": "code",
   "execution_count": 1,
   "metadata": {},
   "outputs": [],
   "source": [
    "import numpy as np # type: ignore\n",
    "import sys\n",
    "import os, fnmatch\n",
    "import pandas as pd # type: ignore\n",
    "import glob\n",
    "import json\n",
    "from icecube import dataio, dataclasses, icetray, MuonGun # type: ignore\n",
    "from I3Tray import * # type: ignore\n",
    "from icecube.hdfwriter import I3HDFWriter # type: ignore\n",
    "import h5py # type: ignore\n",
    "from i3_tools import *"
   ]
  },
  {
   "cell_type": "markdown",
   "metadata": {},
   "source": [
    "#### Read in file paths, and corresponding subject set ids"
   ]
  },
  {
   "cell_type": "code",
   "execution_count": 2,
   "metadata": {},
   "outputs": [],
   "source": [
    "file_info = pd.read_csv(os.path.join(os.getcwd(), 'phase1_files.csv'))\n",
    "i3_files = list(file_info['filepath'])\n",
    "subj_set_ids = list(file_info['subject_set_id'])"
   ]
  },
  {
   "cell_type": "code",
   "execution_count": 3,
   "metadata": {},
   "outputs": [
    {
     "name": "stdout",
     "output_type": "stream",
     "text": [
      "['ap_modules_ntn_events_112392.i3.hd5', 'ntn_events_112119.i3', 'ntn_events_112425.i3', 'ntn_events_112120.i3', 'ap_modules_ntn_events_112487.i3', 'ap_modules_ntn_events_112467.i3.hd5', 'ap_modules_ntn_events_112467.i3', 'ap_modules_ntn_events_112118.i3.hd5', 'ntn_events_112118.i3', 'all_ntn_events_4-24-24.csv', 'ntn_events_112433.i3', 'ap_modules_ntn_events_112492.i3', 'ap_modules_ntn_events_112120.i3.hd5', 'ap_modules_ntn_events_112492.i3.hd5', 'ap_modules_ntn_events_112473.i3', 'ap_modules_ntn_events_112425.i3.hd5', 'ntn_events_112498.i3', 'ap_modules_ntn_events_112414.i3', 'ap_modules_ntn_events_112473.i3.hd5', 'ap_modules_ntn_events_112433.i3.hd5', 'ap_modules_ntn_events_112464.i3', 'ap_modules_ntn_events_112414.i3.hd5', 'ap_modules_ntn_events_112481.i3', 'ntn_events_112109.i3', 'ntn_events_112392.i3', 'ap_modules_ntn_events_112501.i3', 'ntn_events_112418.i3', 'ap_modules_ntn_events_112116.i3', 'ntn_events_112391.i3', 'ap_modules_ntn_events_112498.i3.hd5', 'ap_modules_ntn_events_112418.i3.hd5', 'ap_modules_ntn_events_112109.i3', 'ap_modules_ntn_events_112392.i3', 'ntn_events_112481.i3', 'ap_modules_ntn_events_112418.i3', 'ntn_events_112501.i3', 'ap_modules_ntn_events_112109.i3.hd5', 'ap_modules_ntn_events_112481.i3.hd5', 'ap_modules_ntn_events_112391.i3', 'ntn_events_112116.i3', 'ap_modules_ntn_events_112119.i3.hd5', 'ap_modules_ntn_events_112425.i3', 'ap_modules_ntn_events_112119.i3', 'ap_modules_ntn_events_112433.i3', 'ap_modules_ntn_events_112118.i3', 'ntn_events_112467.i3', 'ntn_events_112487.i3', 'ap_modules_ntn_events_112487.i3.hd5', 'ap_modules_ntn_events_112120.i3', 'ap_modules_ntn_events_112501.i3.hd5', 'ap_modules_ntn_events_112464.i3.hd5', 'ntn_events_112492.i3', 'ap_modules_ntn_events_112116.i3.hd5', 'ntn_events_112464.i3', 'ntn_events_112414.i3', 'ap_modules_ntn_events_112498.i3', 'ntn_events_112473.i3', 'ap_modules_ntn_events_112391.i3.hd5']\n",
      "ap_modules_ntn_events_112392.i3.hd5\n"
     ]
    },
    {
     "ename": "RuntimeError",
     "evalue": "Error reading /home/aphillips/data/output/ap_modules_ntn_events_112392.i3.hd5 at frame 1: Your I3File is corrupt. (in bool I3Frame::load(IStreamT&, const std::vector<std::__cxx11::basic_string<char> >&, bool) [with IStreamT = boost::iostreams::filtering_stream<boost::iostreams::input>])! (in virtual void I3Reader::Process())",
     "output_type": "error",
     "traceback": [
      "\u001b[0;31m---------------------------------------------------------------------------\u001b[0m",
      "\u001b[0;31mRuntimeError\u001b[0m                              Traceback (most recent call last)",
      "\u001b[0;32m<ipython-input-3-0f54cf2f9bb4>\u001b[0m in \u001b[0;36m<module>\u001b[0;34m\u001b[0m\n\u001b[1;32m      4\u001b[0m \u001b[0;32mfor\u001b[0m \u001b[0mf\u001b[0m \u001b[0;32min\u001b[0m \u001b[0mfiles\u001b[0m\u001b[0;34m:\u001b[0m\u001b[0;34m\u001b[0m\u001b[0;34m\u001b[0m\u001b[0m\n\u001b[1;32m      5\u001b[0m     \u001b[0mprint\u001b[0m\u001b[0;34m(\u001b[0m\u001b[0mf\u001b[0m\u001b[0;34m)\u001b[0m\u001b[0;34m\u001b[0m\u001b[0;34m\u001b[0m\u001b[0m\n\u001b[0;32m----> 6\u001b[0;31m     \u001b[0;34m(\u001b[0m\u001b[0moutfile\u001b[0m\u001b[0;34m,\u001b[0m \u001b[0mhd5_name\u001b[0m\u001b[0;34m)\u001b[0m \u001b[0;34m=\u001b[0m \u001b[0mapply_modules\u001b[0m\u001b[0;34m(\u001b[0m\u001b[0mos\u001b[0m\u001b[0;34m.\u001b[0m\u001b[0mpath\u001b[0m\u001b[0;34m.\u001b[0m\u001b[0mjoin\u001b[0m\u001b[0;34m(\u001b[0m\u001b[0;34m'/home/aphillips/data/output/'\u001b[0m\u001b[0;34m,\u001b[0m\u001b[0mf\u001b[0m\u001b[0;34m)\u001b[0m\u001b[0;34m,\u001b[0m \u001b[0;34m'.'\u001b[0m\u001b[0;34m)\u001b[0m\u001b[0;34m\u001b[0m\u001b[0;34m\u001b[0m\u001b[0m\n\u001b[0m\u001b[1;32m      7\u001b[0m     \u001b[0mdataframes\u001b[0m\u001b[0;34m.\u001b[0m\u001b[0mappend\u001b[0m\u001b[0;34m(\u001b[0m\u001b[0mprocess_data\u001b[0m\u001b[0;34m(\u001b[0m\u001b[0mos\u001b[0m\u001b[0;34m.\u001b[0m\u001b[0mpath\u001b[0m\u001b[0;34m.\u001b[0m\u001b[0mjoin\u001b[0m\u001b[0;34m(\u001b[0m\u001b[0mos\u001b[0m\u001b[0;34m.\u001b[0m\u001b[0mgetcwd\u001b[0m\u001b[0;34m(\u001b[0m\u001b[0;34m)\u001b[0m\u001b[0;34m,\u001b[0m \u001b[0;34m'output'\u001b[0m\u001b[0;34m,\u001b[0m \u001b[0mhd5_name\u001b[0m\u001b[0;34m)\u001b[0m\u001b[0;34m)\u001b[0m\u001b[0;34m)\u001b[0m\u001b[0;34m\u001b[0m\u001b[0;34m\u001b[0m\u001b[0m\n",
      "\u001b[0;32m~/name-that-neutrino/i3_processing/i3_tools.py\u001b[0m in \u001b[0;36mapply_modules\u001b[0;34m(input_file, output_dir)\u001b[0m\n\u001b[1;32m     69\u001b[0m     \u001b[0mtray\u001b[0m\u001b[0;34m.\u001b[0m\u001b[0mAddModule\u001b[0m\u001b[0;34m(\u001b[0m\u001b[0;34m'TrashCan'\u001b[0m\u001b[0;34m,\u001b[0m\u001b[0;34m'can'\u001b[0m\u001b[0;34m)\u001b[0m\u001b[0;34m\u001b[0m\u001b[0;34m\u001b[0m\u001b[0m\n\u001b[1;32m     70\u001b[0m \u001b[0;34m\u001b[0m\u001b[0m\n\u001b[0;32m---> 71\u001b[0;31m     \u001b[0mtray\u001b[0m\u001b[0;34m.\u001b[0m\u001b[0mExecute\u001b[0m\u001b[0;34m(\u001b[0m\u001b[0;34m)\u001b[0m\u001b[0;34m\u001b[0m\u001b[0;34m\u001b[0m\u001b[0m\n\u001b[0m\u001b[1;32m     72\u001b[0m     \u001b[0mtray\u001b[0m\u001b[0;34m.\u001b[0m\u001b[0mFinish\u001b[0m\u001b[0;34m(\u001b[0m\u001b[0;34m)\u001b[0m\u001b[0;34m\u001b[0m\u001b[0;34m\u001b[0m\u001b[0m\n\u001b[1;32m     73\u001b[0m     \u001b[0;32mreturn\u001b[0m \u001b[0;34m(\u001b[0m\u001b[0moutfile\u001b[0m\u001b[0;34m,\u001b[0m \u001b[0mhdf_name\u001b[0m\u001b[0;34m)\u001b[0m\u001b[0;34m\u001b[0m\u001b[0;34m\u001b[0m\u001b[0m\n",
      "\u001b[0;32m/cvmfs/icecube.opensciencegrid.org/py3-v4.1.1/RHEL_7_x86_64/metaprojects/icetray/v1.3.0/lib/I3Tray.py\u001b[0m in \u001b[0;36mExecute\u001b[0;34m(self, *args)\u001b[0m\n\u001b[1;32m    254\u001b[0m             \u001b[0msuper\u001b[0m\u001b[0;34m(\u001b[0m\u001b[0mI3Tray\u001b[0m\u001b[0;34m,\u001b[0m \u001b[0mself\u001b[0m\u001b[0;34m)\u001b[0m\u001b[0;34m.\u001b[0m\u001b[0mExecute\u001b[0m\u001b[0;34m(\u001b[0m\u001b[0margs\u001b[0m\u001b[0;34m[\u001b[0m\u001b[0;36m0\u001b[0m\u001b[0;34m]\u001b[0m\u001b[0;34m)\u001b[0m\u001b[0;34m\u001b[0m\u001b[0;34m\u001b[0m\u001b[0m\n\u001b[1;32m    255\u001b[0m         \u001b[0;32melse\u001b[0m\u001b[0;34m:\u001b[0m\u001b[0;34m\u001b[0m\u001b[0;34m\u001b[0m\u001b[0m\n\u001b[0;32m--> 256\u001b[0;31m             \u001b[0msuper\u001b[0m\u001b[0;34m(\u001b[0m\u001b[0mI3Tray\u001b[0m\u001b[0;34m,\u001b[0m \u001b[0mself\u001b[0m\u001b[0;34m)\u001b[0m\u001b[0;34m.\u001b[0m\u001b[0mExecute\u001b[0m\u001b[0;34m(\u001b[0m\u001b[0;34m)\u001b[0m\u001b[0;34m\u001b[0m\u001b[0;34m\u001b[0m\u001b[0m\n\u001b[0m\u001b[1;32m    257\u001b[0m \u001b[0;34m\u001b[0m\u001b[0m\n\u001b[1;32m    258\u001b[0m     \u001b[0;32mdef\u001b[0m \u001b[0mPrintUsage\u001b[0m\u001b[0;34m(\u001b[0m\u001b[0mself\u001b[0m\u001b[0;34m,\u001b[0m \u001b[0mfraction\u001b[0m\u001b[0;34m=\u001b[0m\u001b[0;36m0.9\u001b[0m\u001b[0;34m)\u001b[0m\u001b[0;34m:\u001b[0m\u001b[0;34m\u001b[0m\u001b[0;34m\u001b[0m\u001b[0m\n",
      "\u001b[0;31mRuntimeError\u001b[0m: Error reading /home/aphillips/data/output/ap_modules_ntn_events_112392.i3.hd5 at frame 1: Your I3File is corrupt. (in bool I3Frame::load(IStreamT&, const std::vector<std::__cxx11::basic_string<char> >&, bool) [with IStreamT = boost::iostreams::filtering_stream<boost::iostreams::input>])! (in virtual void I3Reader::Process())"
     ]
    }
   ],
   "source": [
    "dataframes = []\n",
    "for f in i3_files:\n",
    "    print(f)\n",
    "    (outfile, hd5_name) = apply_modules(os.path.join('/home/aphillips/data/output/',f), '/home/aphillips/data/output/')\n",
    "    dataframes.append(process_data(os.path.join(os.getcwd(), 'output', hd5_name)))"
   ]
  },
  {
   "cell_type": "markdown",
   "metadata": {},
   "source": [
    "#### Concatenate all the csvs into a master df"
   ]
  },
  {
   "cell_type": "code",
   "execution_count": 3,
   "metadata": {},
   "outputs": [
    {
     "name": "stdout",
     "output_type": "stream",
     "text": [
      "4271\n"
     ]
    }
   ],
   "source": [
    "DF = pd.concat(dataframes) #create a master dataframe\n",
    "print(len(DF))\n",
    "DF.to_csv('/home/aphillips/data/output/all_ntn_events_4-24-24.csv', index=False) #save"
   ]
  },
  {
   "cell_type": "markdown",
   "metadata": {},
   "source": [
    "testing"
   ]
  },
  {
   "cell_type": "code",
   "execution_count": null,
   "metadata": {},
   "outputs": [],
   "source": []
  }
 ],
 "metadata": {
  "kernelspec": {
   "display_name": "Python 3",
   "language": "python",
   "name": "python3"
  },
  "language_info": {
   "codemirror_mode": {
    "name": "ipython",
    "version": 3
   },
   "file_extension": ".py",
   "mimetype": "text/x-python",
   "name": "python",
   "nbconvert_exporter": "python",
   "pygments_lexer": "ipython3",
   "version": "3.7.5"
  }
 },
 "nbformat": 4,
 "nbformat_minor": 2
}
